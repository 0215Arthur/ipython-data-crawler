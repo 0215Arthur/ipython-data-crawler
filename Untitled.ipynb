{
 "cells": [
  {
   "cell_type": "code",
   "execution_count": 1,
   "metadata": {},
   "outputs": [],
   "source": [
    "import xlrd\n",
    "\n",
    "df=xlrd.to_excel('')\n",
    "\n",
    "#df\n",
    "#df1=df['纬度']\n",
    "#df2=df['经度']\n",
    "#df3=df['预订任务限额']\n",
    "#new_df=pd.DataFrame({'x':[df1],'y':[df2],'num':[df3]})\n",
    "#new_df"
   ]
  }
 ],
 "metadata": {
  "kernelspec": {
   "display_name": "Python 3",
   "language": "python",
   "name": "python3"
  },
  "language_info": {
   "codemirror_mode": {
    "name": "ipython",
    "version": 3
   },
   "file_extension": ".py",
   "mimetype": "text/x-python",
   "name": "python",
   "nbconvert_exporter": "python",
   "pygments_lexer": "ipython3",
   "version": "3.6.1"
  }
 },
 "nbformat": 4,
 "nbformat_minor": 2
}
