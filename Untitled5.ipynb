{
 "cells": [
  {
   "cell_type": "code",
   "execution_count": 1,
   "metadata": {
    "collapsed": true
   },
   "outputs": [],
   "source": [
    "# -*- coding: utf-8 -*-\n",
    "\n",
    "# Define here the models for your scraped items\n",
    "#\n",
    "# See documentation in:\n",
    "# http://doc.scrapy.org/en/latest/topics/items.html\n",
    "\n",
    "import scrapy\n",
    "\n",
    "\n",
    "class ProgramItem(scrapy.Item):\n",
    "    # define the fields for your item here like:\n",
    "    # name = scrapy.Field()\n",
    "    program_url=scrapy.Field() #节目链接\n",
    "    issue=scrapy.Field() #期号\n",
    "    create_time=scrapy.Field() #创建时间\n",
    "    play_times=scrapy.Field() #播放次数\n",
    "    subscription_number=scrapy.Field() #订阅次数\n",
    "    like_number=scrapy.Field() #点赞数\n",
    "    comment_number=scrapy.Field() #评论数\n",
    "    share_number=scrapy.Field() #分享数\n",
    "    \n",
    "class SongItem(scrapy.Item):\n",
    "    song_id=scrapy.Field() #歌曲编号\n",
    "    artist_id=scrapy.Field() #歌手编号\n",
    "    album_id=scrapy.Field() #所属专辑编号\n",
    "    comment_number=scrapy.Field() #评论数\n",
    "    title=scrapy.Field() #歌曲名\n",
    "\n",
    "class LyricItem(scrapy.Item):\n",
    "    song_id=scrapy.Field() #歌曲编号\n",
    "    lyric=scrapy.Field() #歌词\n",
    "    \n",
    "#class SongCommentItem(scrapy.Item):\n",
    "#    song_id=scrapy.Field() #歌曲唯一编号\n",
    "#    user_name=scrapy.Field() #用户名\n",
    "#    content=scrapy.Field() #评论内容\n",
    "#    zan=scrapy.Field() #评论点赞数\n",
    "#    time=scrapy.Field() #评论时间"
   ]
  },
  {
   "cell_type": "code",
   "execution_count": 2,
   "metadata": {
    "collapsed": true
   },
   "outputs": [],
   "source": [
    "# -*- coding: utf-8 -*-\n",
    "import scrapy\n",
    "#from items import ProgramItem\n",
    "\n",
    "'''\n",
    "取得 网易云音乐电台《中国嘻哈榜》 下所有节目列表\n",
    "\n",
    "cd /home/andy/000_music163xiha/scrapy/music163xiha/spiders\n",
    "pyenv activate scrapy2.7\n",
    "\n",
    "scrapy runspider programs.py\n",
    "\n",
    "nohup scrapy crawl playlist > log/playlist.log 2>&1 &\n",
    "\n",
    "tail -f /home/andy/000_music163/scrapy/music163/spiders/log/playlist.log\n",
    "'''\n",
    "class ProgramsSpider(scrapy.Spider):\n",
    "    radio_url = 'http://music.163.com/djradio?id=169' # 网易云音乐电台《中国嘻哈榜》\n",
    "    program_list_file='./result/program_url.txt'\n",
    "    \n",
    "    name = \"programs\" # 节目列表\n",
    "    \n",
    "    allowed_domains = [\"music.163.com\"]\n",
    "    start_urls = [radio_url]\n",
    "             \n",
    "    def __init__(self, *args, **kwargs):\n",
    "        super(ProgramsSpider, self).__init__(*args, **kwargs)\n",
    "        f=open(self.program_list_file,'a+')\n",
    "        f.truncate()\n",
    "        f.close()\n",
    "        # ...\n",
    "\n",
    "    def parse(self, response):\n",
    "        self.log('--> [parse]url:%s' % response.url)\n",
    "        list_urls = response.xpath('//div[@class=\"tt f-thide\"]/a/@href').extract()\n",
    "        self.log('--> [parse]url[0]:%s' % list_urls[:1])\n",
    "        for program_url in list_urls:\n",
    "            yield scrapy.Request(url=response.urljoin(program_url), callback=self.parse_program)\n",
    "            \n",
    "        #将节目url写入文本文件program_list.txt\n",
    "        for program_url in list_urls:\n",
    "            f=open(self.program_list_file,'a+')\n",
    "            f.write(response.urljoin(program_url)+'\\n')\n",
    "            f.close()\n",
    "            \n",
    "        #解析下一个页面\n",
    "        next_page = response.xpath('.//a[@class=\"zbtn znxt\"]/@href').extract_first()\n",
    "        if next_page != None:\n",
    "            yield scrapy.Request(response.urljoin(next_page), callback=self.parse)\n",
    "\n",
    "    def parse_program(self, response):\n",
    "        self.log('--> [parse_program]url:%s' % response.url)\n",
    "        title = response.xpath('//div[@class=\"tit tit3\"]/h2/text()').extract()\n",
    "        self.log('--> title:%s' % title)\n",
    "        \n",
    "        program_url=response.url #节目链接\n",
    "        issue=response.xpath('//*[@id=\"module-root\"]/div[1]/div/div/div[2]/div[2]/strong/text()').extract_first() #期号\n",
    "        create_time=response.xpath('//*[@id=\"module-root\"]/div[1]/div/div/div[2]/div[2]/span[1]/text()').extract_first() #创建时间\n",
    "        play_times=response.xpath('//*[@id=\"play-count\"]/text()').extract_first()#播放次数\n",
    "        subscription_number=response.xpath('//*[@id=\"module-root\"]/div[1]/div/div/div[1]/div[2]/div/div/div[2]/span/a/i/text()').extract_first() #订阅次数\n",
    "        like_number=response.xpath('//*[@id=\"module-root\"]/div[1]/div/div/div[2]/div[1]/a[2]/i/span/text()').extract_first() #点赞数\n",
    "        comment_number=response.xpath('//*[@id=\"module-root\"]/div[1]/div/div/div[2]/div[1]/a[3]/i/text()').extract_first() #评论数\n",
    "        share_number=response.xpath('//*[@id=\"module-root\"]/div[1]/div/div/div[2]/div[1]/a[4]/i/text()').extract_first() #分享数\n",
    "        \n",
    "        program=ProgramItem()\n",
    "        program['program_url']=program_url\n",
    "        program['issue']=issue\n",
    "        program['create_time']=create_time\n",
    "        program['play_times']=play_times\n",
    "        program['subscription_number']=subscription_number\n",
    "        program['like_number']=like_number\n",
    "        program['comment_number']= comment_number\n",
    "        program['share_number']=share_number\n",
    "        \n",
    "        yield program\n",
    "        \n"
   ]
  },
  {
   "cell_type": "code",
   "execution_count": 6,
   "metadata": {},
   "outputs": [
    {
     "data": {
      "text/plain": [
       "<function __main__.ProgramsSpider.parse>"
      ]
     },
     "execution_count": 6,
     "metadata": {},
     "output_type": "execute_result"
    }
   ],
   "source": [
    "Programs=ProgramsSpider\n",
    "\n"
   ]
  }
 ],
 "metadata": {
  "kernelspec": {
   "display_name": "Python 3",
   "language": "python",
   "name": "python3"
  },
  "language_info": {
   "codemirror_mode": {
    "name": "ipython",
    "version": 3
   },
   "file_extension": ".py",
   "mimetype": "text/x-python",
   "name": "python",
   "nbconvert_exporter": "python",
   "pygments_lexer": "ipython3",
   "version": "3.6.1"
  }
 },
 "nbformat": 4,
 "nbformat_minor": 2
}
